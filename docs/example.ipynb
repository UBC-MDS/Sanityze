{
    "cells": [
        {
            "attachments": {},
            "cell_type": "markdown",
            "metadata": {},
            "source": [
                "# Getting Started with sanityze"
            ]
        },
        {
            "attachments": {},
            "cell_type": "markdown",
            "metadata": {},
            "source": [
                "## If you are developing locally\n",
                "\n",
                "After checking out the repository, you can run the following commands to install the package and its dependencies:\n",
                "\n",
                "```bash\n",
                "$ poetry install\n",
                "```\n",
                "\n",
                "Open this notebook in JupyterLab and run the cells in section \"Example\"."
            ]
        },
        {
            "attachments": {},
            "cell_type": "markdown",
            "metadata": {},
            "source": [
                "## If you are using the public package\n",
                "\n",
                "To use `sanityze` in a project, You can install it from PyPI:\n",
                "\n",
                "```bash\n",
                "$ pip install sanityze\n",
                "```\n",
                "\n",
                "Then, you can import it in your code:\n",
                "\n",
                "```python\n",
                "from sanityze.cleanser import *\n",
                "from sanityze.spotters import *\n",
                "```\n",
                "```"
            ]
        },
        {
            "cell_type": "markdown",
            "metadata": {},
            "source": [
                "## Examples"
            ]
        },
        {
            "cell_type": "code",
            "execution_count": 44,
            "metadata": {},
            "outputs": [
                {
                    "data": {
                        "text/html": [
                            "<div>\n",
                            "<style scoped>\n",
                            "    .dataframe tbody tr th:only-of-type {\n",
                            "        vertical-align: middle;\n",
                            "    }\n",
                            "\n",
                            "    .dataframe tbody tr th {\n",
                            "        vertical-align: top;\n",
                            "    }\n",
                            "\n",
                            "    .dataframe thead th {\n",
                            "        text-align: right;\n",
                            "    }\n",
                            "</style>\n",
                            "<table border=\"1\" class=\"dataframe\">\n",
                            "  <thead>\n",
                            "    <tr style=\"text-align: right;\">\n",
                            "      <th></th>\n",
                            "      <th>product_name</th>\n",
                            "      <th>price</th>\n",
                            "    </tr>\n",
                            "  </thead>\n",
                            "  <tbody>\n",
                            "    <tr>\n",
                            "      <th>0</th>\n",
                            "      <td>laptop</td>\n",
                            "      <td>1200</td>\n",
                            "    </tr>\n",
                            "    <tr>\n",
                            "      <th>1</th>\n",
                            "      <td>printer foo@gaga.com</td>\n",
                            "      <td>150</td>\n",
                            "    </tr>\n",
                            "    <tr>\n",
                            "      <th>2</th>\n",
                            "      <td>tablet</td>\n",
                            "      <td>300</td>\n",
                            "    </tr>\n",
                            "    <tr>\n",
                            "      <th>3</th>\n",
                            "      <td>desk 5555 5555 5555 4444</td>\n",
                            "      <td>450</td>\n",
                            "    </tr>\n",
                            "    <tr>\n",
                            "      <th>4</th>\n",
                            "      <td>chair</td>\n",
                            "      <td>200</td>\n",
                            "    </tr>\n",
                            "  </tbody>\n",
                            "</table>\n",
                            "</div>"
                        ],
                        "text/plain": [
                            "               product_name  price\n",
                            "0                    laptop   1200\n",
                            "1      printer foo@gaga.com    150\n",
                            "2                    tablet    300\n",
                            "3  desk 5555 5555 5555 4444    450\n",
                            "4                     chair    200"
                        ]
                    },
                    "execution_count": 44,
                    "metadata": {},
                    "output_type": "execute_result"
                }
            ],
            "source": [
                "# setup a dummy test dataframe\n",
                "import pandas as pd\n",
                "data = {'product_name': ['laptop', 'printer foo@gaga.com', 'tablet', 'desk 5555 5555 5555 4444', 'chair'],\n",
                "        'price': [1200, 150, 300, 450, 200]\n",
                "        }\n",
                "df = pd.DataFrame(data)\n",
                "df.head()"
            ]
        },
        {
            "cell_type": "code",
            "execution_count": 45,
            "metadata": {},
            "outputs": [
                {
                    "data": {
                        "text/html": [
                            "<div>\n",
                            "<style scoped>\n",
                            "    .dataframe tbody tr th:only-of-type {\n",
                            "        vertical-align: middle;\n",
                            "    }\n",
                            "\n",
                            "    .dataframe tbody tr th {\n",
                            "        vertical-align: top;\n",
                            "    }\n",
                            "\n",
                            "    .dataframe thead th {\n",
                            "        text-align: right;\n",
                            "    }\n",
                            "</style>\n",
                            "<table border=\"1\" class=\"dataframe\">\n",
                            "  <thead>\n",
                            "    <tr style=\"text-align: right;\">\n",
                            "      <th></th>\n",
                            "      <th>product_name</th>\n",
                            "      <th>price</th>\n",
                            "    </tr>\n",
                            "  </thead>\n",
                            "  <tbody>\n",
                            "    <tr>\n",
                            "      <th>0</th>\n",
                            "      <td>None</td>\n",
                            "      <td>1200</td>\n",
                            "    </tr>\n",
                            "    <tr>\n",
                            "      <th>1</th>\n",
                            "      <td>None</td>\n",
                            "      <td>150</td>\n",
                            "    </tr>\n",
                            "    <tr>\n",
                            "      <th>2</th>\n",
                            "      <td>None</td>\n",
                            "      <td>300</td>\n",
                            "    </tr>\n",
                            "    <tr>\n",
                            "      <th>3</th>\n",
                            "      <td>None</td>\n",
                            "      <td>450</td>\n",
                            "    </tr>\n",
                            "    <tr>\n",
                            "      <th>4</th>\n",
                            "      <td>None</td>\n",
                            "      <td>200</td>\n",
                            "    </tr>\n",
                            "  </tbody>\n",
                            "</table>\n",
                            "</div>"
                        ],
                        "text/plain": [
                            "  product_name  price\n",
                            "0         None   1200\n",
                            "1         None    150\n",
                            "2         None    300\n",
                            "3         None    450\n",
                            "4         None    200"
                        ]
                    },
                    "execution_count": 45,
                    "metadata": {},
                    "output_type": "execute_result"
                }
            ],
            "source": [
                "from sanityze.cleanser import *\n",
                "c = Cleanser()\n",
                "c.clean(df)"
            ]
        }
    ],
    "metadata": {
        "kernelspec": {
            "display_name": "524i",
            "language": "python",
            "name": "python3"
        },
        "language_info": {
            "codemirror_mode": {
                "name": "ipython",
                "version": 3
            },
            "file_extension": ".py",
            "mimetype": "text/x-python",
            "name": "python",
            "nbconvert_exporter": "python",
            "pygments_lexer": "ipython3",
            "version": "3.11.0"
        },
        "vscode": {
            "interpreter": {
                "hash": "9a1799f95374938b462174bb66417677ecd7ed58f0cf6a46837f21edde11adb1"
            }
        }
    },
    "nbformat": 4,
    "nbformat_minor": 4
}
